{
  "nbformat": 4,
  "nbformat_minor": 0,
  "metadata": {
    "colab": {
      "provenance": []
    },
    "kernelspec": {
      "name": "python3",
      "display_name": "Python 3"
    },
    "language_info": {
      "name": "python"
    }
  },
  "cells": [
    {
      "cell_type": "markdown",
      "source": [
        "Name : Izzar Suly Nashrudin <br>\n",
        "NIM : 230601110010"
      ],
      "metadata": {
        "id": "SJBBE-b93c83"
      }
    },
    {
      "cell_type": "markdown",
      "source": [
        "#  Double-Ended Queues\n",
        "We next consider a queue-like data structure that supports insertion and deletion at both the front and the back of the queue. Such a structure is called a doubleended queue, or deque, which is usually pronounced “deck” to avoid confusion with the dequeue method of the regular queue ADT, which is pronounced like the abbreviation “D.Q.”\n",
        "The deque abstract data type is more general than both the stack and the queue ADTs. The extra generality can be useful in some applications. For example, we described a restaurant using a queue to maintain a waitlist. Occassionally, the first person might be removed from the queue only to find that a table was not available;\n",
        "typically, the restaurant will re-insert the person at the first position in the queue. It may also be that a customer at the end of the queue may grow impatient and leave the restaurant. (We will need an even more general data structure if we want to model customers leaving the queue from other positions.)"
      ],
      "metadata": {
        "id": "zgNiiS5t0i_7"
      }
    },
    {
      "cell_type": "markdown",
      "source": [
        "# The Deque Abstract Data Type\n",
        "\n",
        "To provide a symmetrical abstraction, the deque ADT is defined so that deque `D`\n",
        "supports the following methods:\n",
        "\n",
        "- `D.add_first(e)`: Add element `e` to the front of deque `D`.\n",
        "- `D.add_last(e)`: Add element `e` to the back of deque `D`.\n",
        "- `D.delete_first()`: Remove and return the first element from deque `D`;  \n",
        "  an error occurs if the deque is empty.\n",
        "- `D.delete_last()`: Remove and return the last element from deque `D`;  \n",
        "  an error occurs if the deque is empty.\n",
        "\n",
        "Additionally, the deque ADT will include the following accessors:\n",
        "\n",
        "- `D.first()`: Return (but do not remove) the first element of deque `D`;  \n",
        "  an error occurs if the deque is empty.\n",
        "- `D.last()`: Return (but do not remove) the last element of deque `D`;  \n",
        "  an error occurs if the deque is empty.\n",
        "- `D.is_empty()`: Return `True` if deque `D` does not contain any elements.\n",
        "- `len(D)`: Return the number of elements in deque `D`; in Python,  \n",
        "  we implement this with the special method `__len__`.\n"
      ],
      "metadata": {
        "id": "KGvQ05JR3XJV"
      }
    },
    {
      "cell_type": "code",
      "source": [
        "class Deque:\n",
        "    CAPACITY = 10\n",
        "\n",
        "    def __init__(self):\n",
        "        self.data = [None] * Deque.CAPACITY\n",
        "        self.front = 0\n",
        "        self.size = 0\n",
        "\n",
        "    def __len__(self):\n",
        "        return self.size\n",
        "\n",
        "    def is_empty(self):\n",
        "        return self.size == 0\n",
        "\n",
        "    def _resize(self, cap):\n",
        "        new_data = [None] * cap\n",
        "        for i in range(self.size):\n",
        "            new_data[i] = self.data[(self.front + i) % len(self.data)]\n",
        "        self.data = new_data\n",
        "        self.front = 0\n",
        "\n",
        "    def add_first(self, val):\n",
        "        if self.size == len(self.data):\n",
        "            self._resize(2 * len(self.data))\n",
        "        self.front = (self.front - 1) % len(self.data)\n",
        "        self.data[self.front] = val\n",
        "        self.size += 1\n",
        "\n",
        "    def add_last(self, val):\n",
        "        if self.size == len(self.data):\n",
        "            self._resize(2 * len(self.data))\n",
        "        end = (self.front + self.size) % len(self.data)\n",
        "        self.data[end] = val\n",
        "        self.size += 1\n",
        "\n",
        "    def delete_first(self):\n",
        "        if self.is_empty():\n",
        "            raise IndexError(\"Deque is empty\")\n",
        "        val = self.data[self.front]\n",
        "        self.data[self.front] = None\n",
        "        self.front = (self.front + 1) % len(self.data)\n",
        "        self.size -= 1\n",
        "        if 0 < self.size < len(self.data) // 4:\n",
        "            self._resize(len(self.data) // 2)\n",
        "        return val\n",
        "\n",
        "    def delete_last(self):\n",
        "        if self.is_empty():\n",
        "            raise IndexError(\"Deque is empty\")\n",
        "        end = (self.front + self.size - 1) % len(self.data)\n",
        "        val = self.data[end]\n",
        "        self.data[end] = None\n",
        "        self.size -= 1\n",
        "        if 0 < self.size < len(self.data) // 4:\n",
        "            self._resize(len(self.data) // 2)\n",
        "        return val\n",
        "\n",
        "    def first(self):\n",
        "        if self.is_empty():\n",
        "            raise IndexError(\"Deque is empty\")\n",
        "        return self.data[self.front]\n",
        "\n",
        "    def last(self):\n",
        "        if self.is_empty():\n",
        "            raise IndexError(\"Deque is empty\")\n",
        "        return self.data[(self.front + self.size - 1) % len(self.data)]\n",
        "\n",
        "    def __str__(self):\n",
        "        return str([self.data[(self.front + i) % len(self.data)] for i in range(self.size)])"
      ],
      "metadata": {
        "id": "mfF1wRx1z1Hg"
      },
      "execution_count": 5,
      "outputs": []
    },
    {
      "cell_type": "markdown",
      "source": [
        "Contoh Inputan dan Keluaran"
      ],
      "metadata": {
        "id": "bymC1ln50kAQ"
      }
    },
    {
      "cell_type": "code",
      "source": [
        "if __name__ == \"__main__\":\n",
        "    dq = Deque()\n",
        "\n",
        "    print(\"Is empty?\", dq.is_empty())\n",
        "    print(\"Length:\", len(dq))\n",
        "\n",
        "    dq.add_first(10)\n",
        "    dq.add_last(20)\n",
        "    dq.add_first(5)\n",
        "\n",
        "    print(\"Deque:\", dq)\n",
        "    print(\"First:\", dq.first())\n",
        "    print(\"Last:\", dq.last())\n",
        "    print(\"Deleted First:\", dq.delete_first())\n",
        "    print(\"Deleted Last:\", dq.delete_last())\n",
        "    print(\"Deque after deletions:\", dq)\n",
        "\n",
        "    dq.add_last(30)\n",
        "    dq.add_last(40)\n",
        "    dq.add_first(25)\n",
        "    dq.add_first(15)\n",
        "\n",
        "    print(\"\\nDeque after more additions:\", dq)\n",
        "    print(\"First:\", dq.first())\n",
        "    print(\"Last:\", dq.last())\n",
        "\n",
        "    print(\"Deleted First:\", dq.delete_first())\n",
        "    print(\"Deleted Last:\", dq.delete_last())\n",
        "    print(\"Deque after more deletions:\", dq)\n",
        "\n",
        "    print(\"Is empty?\", dq.is_empty())\n",
        "    print(\"Length:\", len(dq))"
      ],
      "metadata": {
        "colab": {
          "base_uri": "https://localhost:8080/"
        },
        "id": "yxwZHISU0ki8",
        "outputId": "579da662-8dca-44f4-9ccd-4c06c26fed35"
      },
      "execution_count": 6,
      "outputs": [
        {
          "output_type": "stream",
          "name": "stdout",
          "text": [
            "Is empty? True\n",
            "Length: 0\n",
            "Deque: [5, 10, 20]\n",
            "First: 5\n",
            "Last: 20\n",
            "Deleted First: 5\n",
            "Deleted Last: 20\n",
            "Deque after deletions: [10]\n",
            "\n",
            "Deque after more additions: [15, 25, 10, 30, 40]\n",
            "First: 15\n",
            "Last: 40\n",
            "Deleted First: 15\n",
            "Deleted Last: 40\n",
            "Deque after more deletions: [25, 10, 30]\n",
            "Is empty? False\n",
            "Length: 3\n"
          ]
        }
      ]
    }
  ]
}